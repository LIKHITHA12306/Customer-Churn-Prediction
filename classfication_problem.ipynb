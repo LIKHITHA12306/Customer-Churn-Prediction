{
 "cells": [
  {
   "cell_type": "code",
   "execution_count": 187,
   "id": "d57b72f7-e7b2-4495-bbe5-52f728cc7b16",
   "metadata": {},
   "outputs": [],
   "source": [
    "# importing packages \n",
    "import numpy as np\n",
    "import pandas as pd"
   ]
  },
  {
   "cell_type": "code",
   "execution_count": null,
   "id": "96fc13e1-f243-4638-8ba6-b3db9a0b43c9",
   "metadata": {},
   "outputs": [],
   "source": [
    "# Reading dataset\n",
    "df = pd.read_csv('your_dataset.csv')\n",
    "df.head()"
   ]
  },
  {
   "cell_type": "code",
   "execution_count": null,
   "id": "d7272c79-a776-4df7-99c6-07ac37868813",
   "metadata": {},
   "outputs": [],
   "source": [
    "# See the no. of rows and columns\n",
    "df.shape"
   ]
  },
  {
   "cell_type": "code",
   "execution_count": null,
   "id": "00aeb392-9f1a-49d7-b530-65417a34af8a",
   "metadata": {},
   "outputs": [],
   "source": [
    "#printing all columns\n",
    "data_cols = df.columns.tolist()\n",
    "print(data_cols)"
   ]
  },
  {
   "cell_type": "code",
   "execution_count": null,
   "id": "36e9d28e-15a2-4bcc-9149-b634b92d3d4b",
   "metadata": {},
   "outputs": [],
   "source": [
    "# Display data type of each feature\n",
    "df.dtypes"
   ]
  },
  {
   "cell_type": "code",
   "execution_count": null,
   "id": "316fbc0a-dcef-4bed-b715-4916efb75cfc",
   "metadata": {},
   "outputs": [],
   "source": [
    "df.describe()"
   ]
  },
  {
   "cell_type": "code",
   "execution_count": null,
   "id": "a7edbfd4-971f-4ecd-bc53-6446106bda36",
   "metadata": {},
   "outputs": [],
   "source": [
    "df.info()"
   ]
  },
  {
   "cell_type": "code",
   "execution_count": null,
   "id": "4b3425e4-d722-4baa-abda-c54efb6f1425",
   "metadata": {},
   "outputs": [],
   "source": [
    "# find the null values\n",
    "df.isnull().sum()"
   ]
  },
  {
   "cell_type": "code",
   "execution_count": null,
   "id": "500f7e9d-7321-4a89-9a33-43cfeecdb855",
   "metadata": {},
   "outputs": [],
   "source": [
    "# Remove unwanted columns\n",
    "df.drop(columns=['column1', 'column2'], inplace=True)  # specify the columns to remove"
   ]
  },
  {
   "cell_type": "code",
   "execution_count": null,
   "id": "42ca3b9f-04d6-4350-a5f2-b5499f6c42c1",
   "metadata": {},
   "outputs": [],
   "source": [
    "# Fill numerical columns with mean and categorical columns with the mode\n",
    "num_columns = df.select_dtypes(include=['float64', 'int64']).columns\n",
    "cat_columns = df.select_dtypes(include=['object']).columns"
   ]
  },
  {
   "cell_type": "code",
   "execution_count": null,
   "id": "81165043-c6b7-422b-b5df-7889388356d4",
   "metadata": {},
   "outputs": [],
   "source": [
    "df[num_columns] = df[num_columns].fillna(df[num_columns].mean())  # numerical columns\n",
    "df[cat_columns] = df[cat_columns].fillna(df[cat_columns].mode().iloc[0])  # categorical columns"
   ]
  },
  {
   "cell_type": "code",
   "execution_count": null,
   "id": "53c14fae-2fc6-4c50-8190-991a8275ec37",
   "metadata": {},
   "outputs": [],
   "source": [
    "# fill the missing values for numerical terms - mean\n",
    "#df['LoanAmount'] = df['LoanAmount'].fillna(df['LoanAmount'].mean())"
   ]
  },
  {
   "cell_type": "code",
   "execution_count": null,
   "id": "871ee159-9e0c-488c-858c-bd277f1791ef",
   "metadata": {},
   "outputs": [],
   "source": [
    "# fill the missing values for categorical terms - mode\n",
    "#df['Gender'] = df[\"Gender\"].fillna(df['Gender'].mode()[0])"
   ]
  },
  {
   "cell_type": "code",
   "execution_count": null,
   "id": "7d058d0c-7702-41a8-99fd-71b52ebc0a85",
   "metadata": {},
   "outputs": [],
   "source": [
    "# find the null values\n",
    "df.isnull().sum()"
   ]
  },
  {
   "cell_type": "code",
   "execution_count": null,
   "id": "6e01dc23-9818-4e15-88f2-ccf37e414bf3",
   "metadata": {},
   "outputs": [],
   "source": [
    "# Encode categorical features using Label Encoding\n",
    "from sklearn.preprocessing import LabelEncoder\n",
    "label_encoder = LabelEncoder()\n",
    "for column in cat_columns:\n",
    "    df[column] = label_encoder.fit_transform(df[column])"
   ]
  },
  {
   "cell_type": "code",
   "execution_count": null,
   "id": "f64bd7e2-ade3-41bf-9ae0-64a319f0f594",
   "metadata": {},
   "outputs": [],
   "source": [
    "# Scale numerical features with MinMaxScaler\n",
    "from sklearn.preprocessing import MinMaxScaler\n",
    "scaler = MinMaxScaler()\n",
    "df[num_columns] = scaler.fit_transform(df[num_columns])"
   ]
  },
  {
   "cell_type": "code",
   "execution_count": null,
   "id": "df73a73d-eba4-45bb-86d8-497a78ecf084",
   "metadata": {},
   "outputs": [],
   "source": [
    "# Split data into train and test sets\n",
    "# replace 'target_column' with your target column name\n",
    "X = df.drop('target_column', axis=1)  # -- independent variable \n",
    "y = df['target_column'] # -- dependent variable "
   ]
  },
  {
   "cell_type": "code",
   "execution_count": null,
   "id": "372f7784-c5b7-4a7c-a226-df17f5323309",
   "metadata": {},
   "outputs": [],
   "source": [
    "from sklearn.model_selection import train_test_split\n",
    "X_train, X_test, y_train, y_test = train_test_split(X, y, test_size=0.2, random_state=42)"
   ]
  },
  {
   "cell_type": "code",
   "execution_count": null,
   "id": "8ecbc0e5-3468-46ad-9ceb-250cc1adbc5a",
   "metadata": {},
   "outputs": [],
   "source": [
    "# Train Logistic Regression model\n",
    "from sklearn.linear_model import LogisticRegression\n",
    "logreg_model = LogisticRegression()\n",
    "logreg_model.fit(X_train, y_train)"
   ]
  },
  {
   "cell_type": "code",
   "execution_count": null,
   "id": "0b7b4095-0caa-427c-a688-ef65803d99d8",
   "metadata": {},
   "outputs": [],
   "source": [
    "# Evaluate Logistic Regression model\n",
    "from sklearn.metrics import accuracy_score, confusion_matrix\n",
    "logreg_pred = logreg_model.predict(X_test)\n",
    "logreg_accuracy = accuracy_score(y_test, logreg_pred)\n",
    "logreg_conf_matrix = confusion_matrix(y_test, logreg_pred)"
   ]
  },
  {
   "cell_type": "code",
   "execution_count": null,
   "id": "4dbdafe6-2e48-4407-8e91-fd065270b154",
   "metadata": {},
   "outputs": [],
   "source": [
    "print(\"Logistic Regression Accuracy:\", logreg_accuracy)\n",
    "print(\"Logistic Regression Confusion Matrix:\\n\", logreg_conf_matrix)"
   ]
  },
  {
   "cell_type": "code",
   "execution_count": null,
   "id": "986233fb-53b5-41c4-a319-84c9b12fadf4",
   "metadata": {},
   "outputs": [],
   "source": [
    "#Train Random Forest Classifier model\n",
    "from sklearn.ensemble import RandomForestClassifier\n",
    "rf_model = RandomForestClassifier()\n",
    "rf_model.fit(X_train, y_train)"
   ]
  },
  {
   "cell_type": "code",
   "execution_count": null,
   "id": "4e7ec171-a1e0-4211-b795-419bad9f4e2e",
   "metadata": {},
   "outputs": [],
   "source": [
    "# Evaluate Random Forest Classifier model\n",
    "rf_pred = rf_model.predict(X_test)\n",
    "rf_accuracy = accuracy_score(y_test, rf_pred)\n",
    "rf_conf_matrix = confusion_matrix(y_test, rf_pred)"
   ]
  },
  {
   "cell_type": "code",
   "execution_count": null,
   "id": "8911bd95-6c85-4643-b30e-e2496f23c134",
   "metadata": {},
   "outputs": [],
   "source": [
    "print(\"Random Forest Accuracy:\", rf_accuracy)\n",
    "print(\"Random Forest Confusion Matrix:\\n\", rf_conf_matrix)"
   ]
  },
  {
   "cell_type": "code",
   "execution_count": null,
   "id": "0e4eb3fd-c4a5-4b5d-a192-55852d7136ce",
   "metadata": {},
   "outputs": [],
   "source": [
    "from sklearn.tree import plot_tree\n",
    "import matplotlib.pyplot as plt\n",
    "\n",
    "# Plotting the first tree in the forest\n",
    "plot_tree(rf_model.estimators_[0], filled=True)\n",
    "plt.show()"
   ]
  },
  {
   "cell_type": "code",
   "execution_count": null,
   "id": "f5c60130-4b46-459e-82e4-576c7a301aeb",
   "metadata": {},
   "outputs": [],
   "source": [
    "# Select the best model\n",
    "best_model = logreg_model if logreg_accuracy > rf_accuracy else rf_model"
   ]
  },
  {
   "cell_type": "code",
   "execution_count": null,
   "id": "51be47e5-cadb-4f91-95f5-426f22eb0df9",
   "metadata": {},
   "outputs": [],
   "source": [
    "# Save the best model as a .pkl file\n",
    "import pickle\n",
    "\n",
    "with open('best_model.pkl', 'wb') as file:\n",
    "    pickle.dump(best_model, file)\n",
    "\n",
    "print(\"Best model saved as 'best_model.pkl'\")"
   ]
  }
 ],
 "metadata": {
  "kernelspec": {
   "display_name": "Python [conda env:base] *",
   "language": "python",
   "name": "conda-base-py"
  },
  "language_info": {
   "codemirror_mode": {
    "name": "ipython",
    "version": 3
   },
   "file_extension": ".py",
   "mimetype": "text/x-python",
   "name": "python",
   "nbconvert_exporter": "python",
   "pygments_lexer": "ipython3",
   "version": "3.12.7"
  }
 },
 "nbformat": 4,
 "nbformat_minor": 5
}
